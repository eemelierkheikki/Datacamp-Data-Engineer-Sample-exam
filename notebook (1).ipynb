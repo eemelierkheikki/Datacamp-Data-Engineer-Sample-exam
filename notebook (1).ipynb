{
 "cells": [
  {
   "cell_type": "markdown",
   "metadata": {
    "dc": {
     "key": "5"
    },
    "deletable": false,
    "editable": false,
    "run_control": {
     "frozen": true
    },
    "tags": [
     "context"
    ]
   },
   "source": [
    "## Practical Exam: Insurance Upgrades\n",
    "<p>Travel Assured provides travel services to its customers. They are based in the United States.</p>\n",
    "<p>Travel Assured provides everything from flights and hotel bookings to holiday insurance.</p>\n",
    "<p>The sales team wants to sell upgrades to customers. So they can do this, it is vital that the data is clean, accurate and available for reporting. </p>\n",
    "<p>They need your help to prepare some data before they start to run a new promotion. </p>\n",
    "<p>The data you need is in the database named <code>insurance</code>. </p>\n",
    "<p><strong>Database Schema</strong></p>\n",
    "<p><img src=\"https://assets.datacamp.com/production/project_1642/img/schema.png\" alt=\"database schema\"></p>\n",
    "<h2 id=\"task1\">Task 1</h2>\n",
    "<p>The sales team want to use customer information to target their new promotion. But, they think the data may not be clean enough to use. The table below shows what the sales team expect the data types and format to be.</p>\n",
    "<table>\n",
    "<thead>\n",
    "<tr>\n",
    "<th>Column Name</th>\n",
    "<th>Description</th>\n",
    "</tr>\n",
    "</thead>\n",
    "<tbody>\n",
    "<tr>\n",
    "<td>customer_id</td>\n",
    "<td>Unique integer (set by the database, can’t take any other value)</td>\n",
    "</tr>\n",
    "<tr>\n",
    "<td>location</td>\n",
    "<td>State names as a lower case string</td>\n",
    "</tr>\n",
    "<tr>\n",
    "<td>age</td>\n",
    "<td>Integer value giving age of customer</td>\n",
    "</tr>\n",
    "<tr>\n",
    "<td>registration_date</td>\n",
    "<td>Date of first registration with company (YYYY-MM-DD)</td>\n",
    "</tr>\n",
    "</tbody>\n",
    "</table>\n",
    "<p>Write a query to ensure that the <code>customer</code> table matches the description provided. </p>"
   ]
  },
  {
   "cell_type": "code",
   "execution_count": 1,
   "metadata": {
    "dc": {
     "key": "5"
    },
    "tags": [
     "sample_code"
    ]
   },
   "outputs": [
    {
     "name": "stdout",
     "output_type": "stream",
     "text": [
      "1500 rows affected.\n",
      "Done.\n"
     ]
    },
    {
     "data": {
      "text/plain": [
       "[]"
      ]
     },
     "execution_count": 1,
     "metadata": {},
     "output_type": "execute_result"
    }
   ],
   "source": [
    "%%sql \n",
    "postgresql:///insurance\n",
    "\n",
    "--The submission accepts the query in the CTE as an answer. \n",
    "--I updated and altered the tables IRL just for fun.\n",
    "--The result tables are limited after submission for readibility purposes.\n",
    "\n",
    "WITH cte1 AS(\n",
    "SELECT customer_id,\n",
    "    LOWER(location) as location,\n",
    "    LEFT(age, 2)::INTEGER as age,\n",
    "    registration_date::DATE as registration_date\n",
    "FROM customer\n",
    "ORDER BY customer_id)\n",
    "\n",
    "UPDATE customer AS c\n",
    "SET customer_id = cte1.customer_id,\n",
    "    location = cte1.location,\n",
    "    age = cte1.age,\n",
    "    registration_date = cte1.registration_date\n",
    "FROM cte1\n",
    "WHERE c.customer_id = cte1.customer_id;\n",
    "\n",
    "ALTER TABLE customer\n",
    "ADD CONSTRAINT uniqueness UNIQUE (customer_id),\n",
    "ALTER COLUMN age SET DATA TYPE INTEGER USING age::INTEGER;"
   ]
  },
  {
   "cell_type": "code",
   "execution_count": 3,
   "metadata": {
    "dc": {
     "key": "5"
    }
   },
   "outputs": [
    {
     "name": "stdout",
     "output_type": "stream",
     "text": [
      "15 rows affected.\n"
     ]
    },
    {
     "data": {
      "text/html": [
       "<table>\n",
       "    <tr>\n",
       "        <th>customer_id</th>\n",
       "        <th>location</th>\n",
       "        <th>age</th>\n",
       "        <th>registration_date</th>\n",
       "    </tr>\n",
       "    <tr>\n",
       "        <td>1</td>\n",
       "        <td>arkansas</td>\n",
       "        <td>32</td>\n",
       "        <td>2018-10-22</td>\n",
       "    </tr>\n",
       "    <tr>\n",
       "        <td>2</td>\n",
       "        <td>texas</td>\n",
       "        <td>23</td>\n",
       "        <td>2019-03-03</td>\n",
       "    </tr>\n",
       "    <tr>\n",
       "        <td>3</td>\n",
       "        <td>illinois</td>\n",
       "        <td>59</td>\n",
       "        <td>2018-04-12</td>\n",
       "    </tr>\n",
       "    <tr>\n",
       "        <td>4</td>\n",
       "        <td>pennsylvania</td>\n",
       "        <td>39</td>\n",
       "        <td>2018-09-05</td>\n",
       "    </tr>\n",
       "    <tr>\n",
       "        <td>5</td>\n",
       "        <td>new york</td>\n",
       "        <td>71</td>\n",
       "        <td>2019-01-29</td>\n",
       "    </tr>\n",
       "    <tr>\n",
       "        <td>6</td>\n",
       "        <td>arizona</td>\n",
       "        <td>85</td>\n",
       "        <td>2021-07-20</td>\n",
       "    </tr>\n",
       "    <tr>\n",
       "        <td>7</td>\n",
       "        <td>iowa</td>\n",
       "        <td>34</td>\n",
       "        <td>2019-07-05</td>\n",
       "    </tr>\n",
       "    <tr>\n",
       "        <td>8</td>\n",
       "        <td>alabama</td>\n",
       "        <td>59</td>\n",
       "        <td>2020-09-10</td>\n",
       "    </tr>\n",
       "    <tr>\n",
       "        <td>9</td>\n",
       "        <td>california</td>\n",
       "        <td>50</td>\n",
       "        <td>2020-07-20</td>\n",
       "    </tr>\n",
       "    <tr>\n",
       "        <td>10</td>\n",
       "        <td>new jersey</td>\n",
       "        <td>60</td>\n",
       "        <td>2020-06-02</td>\n",
       "    </tr>\n",
       "    <tr>\n",
       "        <td>11</td>\n",
       "        <td>new york</td>\n",
       "        <td>85</td>\n",
       "        <td>2020-01-16</td>\n",
       "    </tr>\n",
       "    <tr>\n",
       "        <td>12</td>\n",
       "        <td>washington</td>\n",
       "        <td>44</td>\n",
       "        <td>2021-10-28</td>\n",
       "    </tr>\n",
       "    <tr>\n",
       "        <td>13</td>\n",
       "        <td>new york</td>\n",
       "        <td>69</td>\n",
       "        <td>2018-07-07</td>\n",
       "    </tr>\n",
       "    <tr>\n",
       "        <td>14</td>\n",
       "        <td>california</td>\n",
       "        <td>29</td>\n",
       "        <td>2019-05-03</td>\n",
       "    </tr>\n",
       "    <tr>\n",
       "        <td>15</td>\n",
       "        <td>alabama</td>\n",
       "        <td>50</td>\n",
       "        <td>2020-09-01</td>\n",
       "    </tr>\n",
       "</table>"
      ],
      "text/plain": [
       "[(1, 'arkansas', 32, datetime.date(2018, 10, 22)),\n",
       " (2, 'texas', 23, datetime.date(2019, 3, 3)),\n",
       " (3, 'illinois', 59, datetime.date(2018, 4, 12)),\n",
       " (4, 'pennsylvania', 39, datetime.date(2018, 9, 5)),\n",
       " (5, 'new york', 71, datetime.date(2019, 1, 29)),\n",
       " (6, 'arizona', 85, datetime.date(2021, 7, 20)),\n",
       " (7, 'iowa', 34, datetime.date(2019, 7, 5)),\n",
       " (8, 'alabama', 59, datetime.date(2020, 9, 10)),\n",
       " (9, 'california', 50, datetime.date(2020, 7, 20)),\n",
       " (10, 'new jersey', 60, datetime.date(2020, 6, 2)),\n",
       " (11, 'new york', 85, datetime.date(2020, 1, 16)),\n",
       " (12, 'washington', 44, datetime.date(2021, 10, 28)),\n",
       " (13, 'new york', 69, datetime.date(2018, 7, 7)),\n",
       " (14, 'california', 29, datetime.date(2019, 5, 3)),\n",
       " (15, 'alabama', 50, datetime.date(2020, 9, 1))]"
      ]
     },
     "execution_count": 3,
     "metadata": {},
     "output_type": "execute_result"
    }
   ],
   "source": [
    "%%sql \n",
    "postgresql:///insurance\n",
    "SELECT * FROM customer ORDER BY customer_id LIMIT 15"
   ]
  },
  {
   "cell_type": "markdown",
   "metadata": {
    "dc": {
     "key": "12"
    },
    "deletable": false,
    "editable": false,
    "run_control": {
     "frozen": true
    },
    "tags": [
     "context"
    ]
   },
   "source": [
    "## Task 2\n",
    "<p>You have been informed that there has been a problem in the data entry. Some people who bought a new policy had their purchase type set to NULL instead of New.</p>\n",
    "<p>Return the corrected <code>purchase</code> table.</p>"
   ]
  },
  {
   "cell_type": "code",
   "execution_count": 5,
   "metadata": {
    "dc": {
     "key": "12"
    },
    "tags": [
     "sample_code"
    ]
   },
   "outputs": [
    {
     "name": "stdout",
     "output_type": "stream",
     "text": [
      "0 rows affected.\n",
      "15 rows affected.\n"
     ]
    },
    {
     "data": {
      "text/html": [
       "<table>\n",
       "    <tr>\n",
       "        <th>purchase_id</th>\n",
       "        <th>purchase_type</th>\n",
       "    </tr>\n",
       "    <tr>\n",
       "        <td>0c16ed33</td>\n",
       "        <td>New</td>\n",
       "    </tr>\n",
       "    <tr>\n",
       "        <td>8530bd7b</td>\n",
       "        <td>Upgrade</td>\n",
       "    </tr>\n",
       "    <tr>\n",
       "        <td>1697a9d8</td>\n",
       "        <td>Upgrade</td>\n",
       "    </tr>\n",
       "    <tr>\n",
       "        <td>5439a130</td>\n",
       "        <td>Upgrade</td>\n",
       "    </tr>\n",
       "    <tr>\n",
       "        <td>c57c369b</td>\n",
       "        <td>Upgrade</td>\n",
       "    </tr>\n",
       "    <tr>\n",
       "        <td>d9d57db0</td>\n",
       "        <td>New</td>\n",
       "    </tr>\n",
       "    <tr>\n",
       "        <td>3d8ff616</td>\n",
       "        <td>Renewal</td>\n",
       "    </tr>\n",
       "    <tr>\n",
       "        <td>39044c72</td>\n",
       "        <td>Upgrade</td>\n",
       "    </tr>\n",
       "    <tr>\n",
       "        <td>b0a4aaeb</td>\n",
       "        <td>Upgrade</td>\n",
       "    </tr>\n",
       "    <tr>\n",
       "        <td>a5debeaf</td>\n",
       "        <td>Renewal</td>\n",
       "    </tr>\n",
       "    <tr>\n",
       "        <td>eb0cf98e</td>\n",
       "        <td>New</td>\n",
       "    </tr>\n",
       "    <tr>\n",
       "        <td>32d05034</td>\n",
       "        <td>Renewal</td>\n",
       "    </tr>\n",
       "    <tr>\n",
       "        <td>dbb8e4fb</td>\n",
       "        <td>New</td>\n",
       "    </tr>\n",
       "    <tr>\n",
       "        <td>a7926ba6</td>\n",
       "        <td>New</td>\n",
       "    </tr>\n",
       "    <tr>\n",
       "        <td>16f91258</td>\n",
       "        <td>Upgrade</td>\n",
       "    </tr>\n",
       "</table>"
      ],
      "text/plain": [
       "[('0c16ed33', 'New'),\n",
       " ('8530bd7b', 'Upgrade'),\n",
       " ('1697a9d8', 'Upgrade'),\n",
       " ('5439a130', 'Upgrade'),\n",
       " ('c57c369b', 'Upgrade'),\n",
       " ('d9d57db0', 'New'),\n",
       " ('3d8ff616', 'Renewal'),\n",
       " ('39044c72', 'Upgrade'),\n",
       " ('b0a4aaeb', 'Upgrade'),\n",
       " ('a5debeaf', 'Renewal'),\n",
       " ('eb0cf98e', 'New'),\n",
       " ('32d05034', 'Renewal'),\n",
       " ('dbb8e4fb', 'New'),\n",
       " ('a7926ba6', 'New'),\n",
       " ('16f91258', 'Upgrade')]"
      ]
     },
     "execution_count": 5,
     "metadata": {},
     "output_type": "execute_result"
    }
   ],
   "source": [
    "%%sql \n",
    "postgresql:///insurance\n",
    "\n",
    "UPDATE purchase\n",
    "SET purchase_type = 'New'\n",
    "WHERE purchase_type IS NULL;\n",
    "\n",
    "SELECT * FROM purchase LIMIT 15"
   ]
  },
  {
   "cell_type": "markdown",
   "metadata": {
    "dc": {
     "key": "20"
    },
    "deletable": false,
    "editable": false,
    "run_control": {
     "frozen": true
    },
    "tags": [
     "context"
    ]
   },
   "source": [
    "## Task 3\n",
    "<p>The sales team wants to run a promotion on upgrades to international travel insurance policies. They only want to send this promotion to customers who have an active, US policy type.</p>\n",
    "<p><img src=\"https://assets.datacamp.com/production/project_1642/img/schema.png\" alt=\"database schema\"></p>\n",
    "<p>Write a query to provide the customer ID and start date for eligible customers. </p>"
   ]
  },
  {
   "cell_type": "code",
   "execution_count": 7,
   "metadata": {
    "dc": {
     "key": "20"
    },
    "tags": [
     "sample_code"
    ]
   },
   "outputs": [
    {
     "name": "stdout",
     "output_type": "stream",
     "text": [
      "15 rows affected.\n"
     ]
    },
    {
     "data": {
      "text/html": [
       "<table>\n",
       "    <tr>\n",
       "        <th>customer_id</th>\n",
       "        <th>start_date</th>\n",
       "    </tr>\n",
       "    <tr>\n",
       "        <td>6</td>\n",
       "        <td>2022-10-09</td>\n",
       "    </tr>\n",
       "    <tr>\n",
       "        <td>11</td>\n",
       "        <td>2022-11-14</td>\n",
       "    </tr>\n",
       "    <tr>\n",
       "        <td>18</td>\n",
       "        <td>2022-12-29</td>\n",
       "    </tr>\n",
       "    <tr>\n",
       "        <td>24</td>\n",
       "        <td>2022-06-11</td>\n",
       "    </tr>\n",
       "    <tr>\n",
       "        <td>26</td>\n",
       "        <td>2022-09-02</td>\n",
       "    </tr>\n",
       "    <tr>\n",
       "        <td>29</td>\n",
       "        <td>2022-12-14</td>\n",
       "    </tr>\n",
       "    <tr>\n",
       "        <td>30</td>\n",
       "        <td>2022-08-06</td>\n",
       "    </tr>\n",
       "    <tr>\n",
       "        <td>40</td>\n",
       "        <td>2022-08-14</td>\n",
       "    </tr>\n",
       "    <tr>\n",
       "        <td>45</td>\n",
       "        <td>2023-03-02</td>\n",
       "    </tr>\n",
       "    <tr>\n",
       "        <td>49</td>\n",
       "        <td>2023-03-25</td>\n",
       "    </tr>\n",
       "    <tr>\n",
       "        <td>51</td>\n",
       "        <td>2022-09-21</td>\n",
       "    </tr>\n",
       "    <tr>\n",
       "        <td>53</td>\n",
       "        <td>2022-06-26</td>\n",
       "    </tr>\n",
       "    <tr>\n",
       "        <td>54</td>\n",
       "        <td>2022-05-26</td>\n",
       "    </tr>\n",
       "    <tr>\n",
       "        <td>57</td>\n",
       "        <td>2022-09-28</td>\n",
       "    </tr>\n",
       "    <tr>\n",
       "        <td>61</td>\n",
       "        <td>2023-01-17</td>\n",
       "    </tr>\n",
       "</table>"
      ],
      "text/plain": [
       "[(6, datetime.date(2022, 10, 9)),\n",
       " (11, datetime.date(2022, 11, 14)),\n",
       " (18, datetime.date(2022, 12, 29)),\n",
       " (24, datetime.date(2022, 6, 11)),\n",
       " (26, datetime.date(2022, 9, 2)),\n",
       " (29, datetime.date(2022, 12, 14)),\n",
       " (30, datetime.date(2022, 8, 6)),\n",
       " (40, datetime.date(2022, 8, 14)),\n",
       " (45, datetime.date(2023, 3, 2)),\n",
       " (49, datetime.date(2023, 3, 25)),\n",
       " (51, datetime.date(2022, 9, 21)),\n",
       " (53, datetime.date(2022, 6, 26)),\n",
       " (54, datetime.date(2022, 5, 26)),\n",
       " (57, datetime.date(2022, 9, 28)),\n",
       " (61, datetime.date(2023, 1, 17))]"
      ]
     },
     "execution_count": 7,
     "metadata": {},
     "output_type": "execute_result"
    }
   ],
   "source": [
    "%%sql \n",
    "postgresql:///insurance  \n",
    "\n",
    "SELECT customer_id, start_date\n",
    "FROM policy as p\n",
    "LEFT JOIN sales as s\n",
    "ON p.policy_id = s.policy_id\n",
    "WHERE policy_type = 'US' AND active = True\n",
    "LIMIT 15"
   ]
  },
  {
   "cell_type": "markdown",
   "metadata": {
    "dc": {
     "key": "28"
    },
    "deletable": false,
    "editable": false,
    "run_control": {
     "frozen": true
    },
    "tags": [
     "context"
    ]
   },
   "source": [
    "## Task 4\n",
    "<p>After the promotion has been sent, the sales team will need to monitor the number of active policy holders by policy type who purchased an upgrade.  </p>\n",
    "<p><img src=\"https://assets.datacamp.com/production/project_1642/img/schema.png\" alt=\"database schema\"></p>\n",
    "<p>Write a query that returns the data for the sales team to monitor. Your output should include <code>policy_type</code> and <code>number_active</code> columns.</p>"
   ]
  },
  {
   "cell_type": "code",
   "execution_count": 9,
   "metadata": {
    "dc": {
     "key": "28"
    },
    "tags": [
     "sample_code"
    ]
   },
   "outputs": [
    {
     "name": "stdout",
     "output_type": "stream",
     "text": [
      "2 rows affected.\n"
     ]
    },
    {
     "data": {
      "text/html": [
       "<table>\n",
       "    <tr>\n",
       "        <th>policy_type</th>\n",
       "        <th>number_active</th>\n",
       "    </tr>\n",
       "    <tr>\n",
       "        <td>US</td>\n",
       "        <td>129</td>\n",
       "    </tr>\n",
       "    <tr>\n",
       "        <td>International</td>\n",
       "        <td>54</td>\n",
       "    </tr>\n",
       "</table>"
      ],
      "text/plain": [
       "[('US', 129), ('International', 54)]"
      ]
     },
     "execution_count": 9,
     "metadata": {},
     "output_type": "execute_result"
    }
   ],
   "source": [
    "%%sql \n",
    "postgresql:///insurance\n",
    "\n",
    "SELECT policy_type, COUNT(active) as number_active\n",
    "FROM policy as p\n",
    "LEFT JOIN sales as s\n",
    "ON p.policy_id = s.policy_id\n",
    "LEFT JOIN purchase as pr\n",
    "ON s.purchase_id = pr.purchase_id\n",
    "WHERE p.active = True AND purchase_type = 'Upgrade'\n",
    "GROUP BY policy_type"
   ]
  }
 ],
 "metadata": {
  "kernelspec": {
   "display_name": "Python 3 (ipykernel)",
   "language": "python",
   "name": "python3"
  },
  "language_info": {
   "codemirror_mode": {
    "name": "ipython",
    "version": 3
   },
   "file_extension": ".py",
   "mimetype": "text/x-python",
   "name": "python",
   "nbconvert_exporter": "python",
   "pygments_lexer": "ipython3",
   "version": "3.12.3"
  }
 },
 "nbformat": 4,
 "nbformat_minor": 4
}
